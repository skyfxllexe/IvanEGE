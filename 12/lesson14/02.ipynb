{
 "cells": [
  {
   "cell_type": "code",
   "execution_count": 17,
   "metadata": {},
   "outputs": [
    {
     "name": "stdout",
     "output_type": "stream",
     "text": [
      "81\n"
     ]
    }
   ],
   "source": [
    "for n in range(1,100):\n",
    "    s  =  '>' +'0'*40 +'1'*n +'2'*40\n",
    "    while '>1' in s or '>2' in s or \">0\" in s:\n",
    "        if '>1' in s:\n",
    "            s = s.replace('>1','22>',1)\n",
    "        if '>2' in s:\n",
    "            s = s.replace(\">2\",\"2>\",1)\n",
    "        if '>0' in s:\n",
    "            s = s.replace(\">0\", \"1>\",1)\n",
    "        \n",
    "    summa = 0\n",
    "    for i in range(len(s)):\n",
    "        if s[i] != \">\":\n",
    "            summa += int(s[i])\n",
    "    if str(summa)[0] == str(summa)[1] and str(summa)[1] == str(summa)[2]:\n",
    "        print(n)"
   ]
  },
  {
   "cell_type": "code",
   "execution_count": 18,
   "metadata": {},
   "outputs": [
    {
     "name": "stdout",
     "output_type": "stream",
     "text": [
      "22\n"
     ]
    }
   ],
   "source": [
    "def f(start, finish):\n",
    "    if start > finish:\n",
    "        return 0\n",
    "    if start == finish:\n",
    "        return 1\n",
    "    if start == 6 or start == 12:\n",
    "        return 0\n",
    "    return f(start+1, finish) + f(start*2, finish) + f(start+3, finish)\n",
    "\n",
    "\n",
    "print(f(3,16))"
   ]
  },
  {
   "cell_type": "code",
   "execution_count": null,
   "metadata": {},
   "outputs": [
    {
     "name": "stdout",
     "output_type": "stream",
     "text": [
      "26\n"
     ]
    }
   ],
   "source": [
    "def f(start, finish):\n",
    "    if start > finish:\n",
    "        return 0\n",
    "    if start == finish:\n",
    "        return 1\n",
    "    if start == 5 or start == 10:\n",
    "        return 0\n",
    "    return f(start+1,finish) + f(start*2, finish) + f(start+3, finish)\n",
    "\n",
    "print(f(2,14))"
   ]
  },
  {
   "cell_type": "code",
   "execution_count": 21,
   "metadata": {},
   "outputs": [
    {
     "name": "stdout",
     "output_type": "stream",
     "text": [
      "1936\n"
     ]
    }
   ],
   "source": [
    "def f(start, finish):\n",
    "    if start > finish:\n",
    "        return 0\n",
    "    if start == finish:\n",
    "        return 1\n",
    "    return f(start+1,finish) + f(start+2, finish) + f(start+3, finish)\n",
    "\n",
    "print(f(1,8)*f(8,15))\n"
   ]
  },
  {
   "cell_type": "code",
   "execution_count": 22,
   "metadata": {},
   "outputs": [
    {
     "name": "stdout",
     "output_type": "stream",
     "text": [
      "38\n"
     ]
    }
   ],
   "source": [
    "def f(start, finish):\n",
    "    if start > finish:\n",
    "        return 0\n",
    "    if start == finish:\n",
    "        return 1\n",
    "    return f(start+1,finish) + f(start*2, finish) + f(start*3, finish)\n",
    "\n",
    "print(f(2,14)*f(14,28))\n"
   ]
  },
  {
   "cell_type": "code",
   "execution_count": 38,
   "metadata": {},
   "outputs": [
    {
     "name": "stdout",
     "output_type": "stream",
     "text": [
      "434\n",
      "230414.7465437788\n"
     ]
    }
   ],
   "source": [
    "# Задача найти делители числа n\n",
    "\n",
    "def dividers(n):\n",
    "    dividers = []\n",
    "    for i in range(1,int(n**0.5)+1):\n",
    "        if n%i == 0:\n",
    "            dividers.append(i)\n",
    "            if n//i != i:\n",
    "                dividers.append(n//i)\n",
    "\n",
    "    return dividers\n",
    "\n",
    "\n",
    "def is_prime(n):\n",
    "    for i in range(2,int(n**0.5)):\n",
    "        if n % i == 0:\n",
    "            return False\n",
    "    \n",
    "    return True\n",
    "\n",
    "\n",
    "# for i in range(100_000_000, 200_000_000+1):\n",
    "#     print(i)\n",
    "#     if len(dividers(i)) == 3:\n",
    "#         print(i)\n",
    "\n",
    "# for i in range(int(100_000_000**0.5), int(200_000_000**0.5)+1):\n",
    "#     if len(dividers(i)) == 2:\n",
    "#         print(i**2)\n",
    "\n",
    "\n",
    "print(sum([1 if len(dividers(x)) == 2 else 0 for x in range(int(100_000_000**0.5), int(200_000_000**0.5)+1)]))\n",
    "print(100_000_000/434)\n"
   ]
  }
 ],
 "metadata": {
  "kernelspec": {
   "display_name": "Python 3",
   "language": "python",
   "name": "python3"
  },
  "language_info": {
   "codemirror_mode": {
    "name": "ipython",
    "version": 3
   },
   "file_extension": ".py",
   "mimetype": "text/x-python",
   "name": "python",
   "nbconvert_exporter": "python",
   "pygments_lexer": "ipython3",
   "version": "3.11.9"
  }
 },
 "nbformat": 4,
 "nbformat_minor": 2
}
